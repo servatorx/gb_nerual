{
 "cells": [
  {
   "cell_type": "markdown",
   "metadata": {
    "id": "P2R705COyhTU"
   },
   "source": [
    "### Практическое задание"
   ]
  },
  {
   "cell_type": "markdown",
   "metadata": {
    "id": "K3FXWZe2yl2s"
   },
   "source": [
    "Используем набор примеров fashion-MNIST\n",
    "\n",
    "    Опишите - какой результата получен в нейросети в зависимости от:\n",
    "        числа нейронов в слое(для 2-хслойной сети),\n",
    "        числа слоев (2, 3, 5, 10) при близких размерах сети (близкое число тренируемых парметров).\n",
    "        фиксируйте для тренировочного и тестового набора метрики accuracy.\n",
    "\n",
    "    Проверьте работу разных оптимизаторов (SGD, Adam, RMSProp) для одной из моделей п.1.Фиксируйте для тренировочного и тестового набора метрики accuracy.\n",
    "\n",
    "    Сделайте вывод - что помогло вам улучшить качество классификации в нейросети на тестовом наборе?\n",
    "\n",
    "    Для одного варианта сетей сформируйте матрицу ошибок по классам. Оцените качество модели по каждому классу отдельно (полнота , точность). Сделайте вывод.\n",
    "\n"
   ]
  },
  {
   "cell_type": "markdown",
   "metadata": {
    "id": "iOrXcBTdgXJv"
   },
   "source": [
    "### Подключение библиотек и скриптов"
   ]
  },
  {
   "cell_type": "code",
   "execution_count": 92,
   "metadata": {
    "executionInfo": {
     "elapsed": 741,
     "status": "ok",
     "timestamp": 1606993098521,
     "user": {
      "displayName": "Alexey Tankov",
      "photoUrl": "",
      "userId": "01729535101672247421"
     },
     "user_tz": -180
    },
    "id": "Pag1YpwdykGN"
   },
   "outputs": [],
   "source": [
    "from __future__ import absolute_import, division, print_function\n",
    "\n",
    "import tensorflow as tf\n",
    "#from tensorflow import keras\n",
    "from tensorflow.keras.models import Sequential\n",
    "from tensorflow.keras.layers import Dense\n",
    "from tensorflow.keras.utils import to_categorical\n",
    "import numpy as np\n",
    "import pandas as pd\n",
    "import seaborn as sns\n",
    "import matplotlib.pyplot as plt\n",
    "from tensorflow.keras.utils import to_categorical\n",
    "%matplotlib inline"
   ]
  },
  {
   "cell_type": "code",
   "execution_count": 93,
   "metadata": {
    "executionInfo": {
     "elapsed": 1144,
     "status": "ok",
     "timestamp": 1606993098932,
     "user": {
      "displayName": "Alexey Tankov",
      "photoUrl": "",
      "userId": "01729535101672247421"
     },
     "user_tz": -180
    },
    "id": "cNF06xCalZp3"
   },
   "outputs": [],
   "source": [
    "plt.rcParams.update({'font.size': 14})\n",
    "pd.set_option('precision', 3)\n",
    "pd.set_option('max_columns', 100)\n",
    "pd.set_option('display.float_format', lambda x: '%.5f' % x)\n",
    "pd.set_option('display.max_columns', 500)\n",
    "pd.set_option('display.max_rows', 500)\n",
    "pd.set_option('max_colwidth', 300)"
   ]
  },
  {
   "cell_type": "markdown",
   "metadata": {
    "id": "lKN9kGFKgj0N"
   },
   "source": [
    "### Загрузка данных"
   ]
  },
  {
   "cell_type": "code",
   "execution_count": 94,
   "metadata": {
    "executionInfo": {
     "elapsed": 1818,
     "status": "ok",
     "timestamp": 1606993099610,
     "user": {
      "displayName": "Alexey Tankov",
      "photoUrl": "",
      "userId": "01729535101672247421"
     },
     "user_tz": -180
    },
    "id": "vjWb2TLZy4Y9"
   },
   "outputs": [],
   "source": [
    "fashion_mnist = keras.datasets.fashion_mnist\n",
    "\n",
    "(train_images, train_labels), (test_images, test_labels) = fashion_mnist.load_data()"
   ]
  },
  {
   "cell_type": "code",
   "execution_count": 4,
   "metadata": {
    "colab": {
     "base_uri": "https://localhost:8080/"
    },
    "executionInfo": {
     "elapsed": 1802,
     "status": "ok",
     "timestamp": 1606993099611,
     "user": {
      "displayName": "Alexey Tankov",
      "photoUrl": "",
      "userId": "01729535101672247421"
     },
     "user_tz": -180
    },
    "id": "YQ02m0c7QN1R",
    "outputId": "bb3e5907-dc30-40ce-fefe-37b9f9fdc59b"
   },
   "outputs": [
    {
     "data": {
      "text/plain": [
       "(60000, 28, 28)"
      ]
     },
     "execution_count": 4,
     "metadata": {},
     "output_type": "execute_result"
    }
   ],
   "source": [
    "train_images.shape"
   ]
  },
  {
   "cell_type": "code",
   "execution_count": 5,
   "metadata": {
    "colab": {
     "base_uri": "https://localhost:8080/"
    },
    "executionInfo": {
     "elapsed": 1793,
     "status": "ok",
     "timestamp": 1606993099612,
     "user": {
      "displayName": "Alexey Tankov",
      "photoUrl": "",
      "userId": "01729535101672247421"
     },
     "user_tz": -180
    },
    "id": "cCXAI_3OQjYX",
    "outputId": "31a696d4-896a-4dc4-e859-cac44b6228ec"
   },
   "outputs": [
    {
     "data": {
      "text/plain": [
       "array([9, 0, 0, ..., 3, 0, 5], dtype=uint8)"
      ]
     },
     "execution_count": 5,
     "metadata": {},
     "output_type": "execute_result"
    }
   ],
   "source": [
    "train_labels"
   ]
  },
  {
   "cell_type": "code",
   "execution_count": 6,
   "metadata": {
    "colab": {
     "base_uri": "https://localhost:8080/"
    },
    "executionInfo": {
     "elapsed": 1785,
     "status": "ok",
     "timestamp": 1606993099613,
     "user": {
      "displayName": "Alexey Tankov",
      "photoUrl": "",
      "userId": "01729535101672247421"
     },
     "user_tz": -180
    },
    "id": "yXF9l-J2Ql2P",
    "outputId": "e8ceb696-b869-48d3-dbd8-d93d38572135"
   },
   "outputs": [
    {
     "data": {
      "text/plain": [
       "(10000, 28, 28)"
      ]
     },
     "execution_count": 6,
     "metadata": {},
     "output_type": "execute_result"
    }
   ],
   "source": [
    "test_images.shape"
   ]
  },
  {
   "cell_type": "code",
   "execution_count": 7,
   "metadata": {
    "colab": {
     "base_uri": "https://localhost:8080/"
    },
    "executionInfo": {
     "elapsed": 1777,
     "status": "ok",
     "timestamp": 1606993099614,
     "user": {
      "displayName": "Alexey Tankov",
      "photoUrl": "",
      "userId": "01729535101672247421"
     },
     "user_tz": -180
    },
    "id": "SMr5S6JdqUK8",
    "outputId": "603f1114-1985-4317-b1b9-c32f74404f36"
   },
   "outputs": [
    {
     "data": {
      "text/plain": [
       "array([9, 2, 1, ..., 8, 1, 5], dtype=uint8)"
      ]
     },
     "execution_count": 7,
     "metadata": {},
     "output_type": "execute_result"
    }
   ],
   "source": [
    "test_labels"
   ]
  },
  {
   "cell_type": "code",
   "execution_count": 8,
   "metadata": {
    "colab": {
     "base_uri": "https://localhost:8080/",
     "height": 271
    },
    "executionInfo": {
     "elapsed": 2076,
     "status": "ok",
     "timestamp": 1606993099924,
     "user": {
      "displayName": "Alexey Tankov",
      "photoUrl": "",
      "userId": "01729535101672247421"
     },
     "user_tz": -180
    },
    "id": "m22sp9yDQn-n",
    "outputId": "8a6c2122-0b45-48fc-ff3f-6a649752057c"
   },
   "outputs": [
    {
     "data": {
      "image/png": "[encoded data removed]",
      "text/plain": [
       "<Figure size 432x288 with 2 Axes>"
      ]
     },
     "metadata": {
      "needs_background": "light"
     },
     "output_type": "display_data"
    }
   ],
   "source": [
    "plt.figure()\n",
    "plt.imshow(train_images[0])\n",
    "plt.colorbar()\n",
    "plt.grid(False)\n",
    "plt.show()"
   ]
  },
  {
   "cell_type": "code",
   "execution_count": 95,
   "metadata": {
    "executionInfo": {
     "elapsed": 2345,
     "status": "ok",
     "timestamp": 1606993100199,
     "user": {
      "displayName": "Alexey Tankov",
      "photoUrl": "",
      "userId": "01729535101672247421"
     },
     "user_tz": -180
    },
    "id": "OZ0wMxBXQsEo"
   },
   "outputs": [],
   "source": [
    "train_images = train_images / 255.0\n",
    "\n",
    "test_images = test_images / 255.0"
   ]
  },
  {
   "cell_type": "code",
   "execution_count": 96,
   "metadata": {
    "executionInfo": {
     "elapsed": 2344,
     "status": "ok",
     "timestamp": 1606993100201,
     "user": {
      "displayName": "Alexey Tankov",
      "photoUrl": "",
      "userId": "01729535101672247421"
     },
     "user_tz": -180
    },
    "id": "lcoAg4mWRy1W"
   },
   "outputs": [],
   "source": [
    "class_names = ['T-shirt/top', 'Trouser', 'Pullover', 'Dress', 'Coat', \n",
    "               'Sandal', 'Shirt', 'Sneaker', 'Bag', 'Ankle boot']"
   ]
  },
  {
   "cell_type": "code",
   "execution_count": 97,
   "metadata": {
    "colab": {
     "base_uri": "https://localhost:8080/",
     "height": 593
    },
    "executionInfo": {
     "elapsed": 4430,
     "status": "ok",
     "timestamp": 1606993102297,
     "user": {
      "displayName": "Alexey Tankov",
      "photoUrl": "",
      "userId": "01729535101672247421"
     },
     "user_tz": -180
    },
    "id": "nAxM3DbTRA6X",
    "outputId": "c62949b0-3732-4596-ed50-aa534b1ef7f0"
   },
   "outputs": [
    {
     "data": {
      "image/png": "[encoded data removed]",
      "text/plain": [
       "<Figure size 720x720 with 25 Axes>"
      ]
     },
     "metadata": {},
     "output_type": "display_data"
    }
   ],
   "source": [
    "plt.figure(figsize=(10,10))\n",
    "for i in range(25):\n",
    "    plt.subplot(5,5, i+1)\n",
    "    plt.xticks([])\n",
    "    plt.yticks([])\n",
    "    plt.grid(False)\n",
    "    plt.imshow(train_images[i], cmap=plt.cm.binary)\n",
    "    plt.xlabel(class_names[train_labels[i]])\n",
    "plt.show()"
   ]
  },
  {
   "cell_type": "markdown",
   "metadata": {
    "id": "uHtqJXhusnUZ"
   },
   "source": [
    "### 1. Проверка количества нейронов в слое"
   ]
  },
  {
   "cell_type": "code",
   "execution_count": 98,
   "metadata": {},
   "outputs": [
    {
     "data": {
      "text/plain": [
       "(60000, 784)"
      ]
     },
     "execution_count": 98,
     "metadata": {},
     "output_type": "execute_result"
    }
   ],
   "source": [
    "train_images = train_images.reshape((-1,784))\n",
    "test_images = test_images.reshape((-1,784))\n",
    "train_labels_one_hot = to_categorical(train_labels)\n",
    "test_labels_one_hot = to_categorical(test_labels)\n",
    "train_images.shape"
   ]
  },
  {
   "cell_type": "code",
   "execution_count": 44,
   "metadata": {
    "executionInfo": {
     "elapsed": 4426,
     "status": "ok",
     "timestamp": 1606993102298,
     "user": {
      "displayName": "Alexey Tankov",
      "photoUrl": "",
      "userId": "01729535101672247421"
     },
     "user_tz": -180
    },
    "id": "imhiR7iFRDEG"
   },
   "outputs": [],
   "source": []
  },
  {
   "cell_type": "code",
   "execution_count": 123,
   "metadata": {},
   "outputs": [],
   "source": [
    "def model_fash(layers_count, neurons_count):\n",
    "    for i in range (0,layers_count-1):\n",
    "        neur=neurons_count[i]\n",
    "        md = Sequential([keras.layers.Dense(neur, activation=tf.nn.relu)])\n",
    "        print(f\"Слоев: {layers_count}, нейронов в слое: {neur}\")\n",
    "    md.add(Dense(10, activation='softmax'))\n",
    "    \n",
    "    \n",
    "    return md"
   ]
  },
  {
   "cell_type": "code",
   "execution_count": 100,
   "metadata": {},
   "outputs": [
    {
     "name": "stdout",
     "output_type": "stream",
     "text": [
      "0 64\n"
     ]
    }
   ],
   "source": []
  },
  {
   "cell_type": "code",
   "execution_count": 126,
   "metadata": {},
   "outputs": [
    {
     "name": "stdout",
     "output_type": "stream",
     "text": [
      "Слоев: 2, нейронов в слое: 32\n",
      "Epoch 1/10\n",
      "1875/1875 [==============================] - 2s 676us/step - loss: 0.7049 - accuracy: 0.7554\n",
      "Epoch 2/10\n",
      "1875/1875 [==============================] - 1s 680us/step - loss: 0.4268 - accuracy: 0.8482\n",
      "Epoch 3/10\n",
      "1875/1875 [==============================] - 1s 667us/step - loss: 0.3904 - accuracy: 0.8600\n",
      "Epoch 4/10\n",
      "1875/1875 [==============================] - 1s 669us/step - loss: 0.3624 - accuracy: 0.8702\n",
      "Epoch 5/10\n",
      "1875/1875 [==============================] - 1s 654us/step - loss: 0.3491 - accuracy: 0.8750\n",
      "Epoch 6/10\n",
      "1875/1875 [==============================] - 1s 660us/step - loss: 0.3344 - accuracy: 0.8793\n",
      "Epoch 7/10\n",
      "1875/1875 [==============================] - 1s 668us/step - loss: 0.3217 - accuracy: 0.8844\n",
      "Epoch 8/10\n",
      "1875/1875 [==============================] - 1s 672us/step - loss: 0.3148 - accuracy: 0.8851\n",
      "Epoch 9/10\n",
      "1875/1875 [==============================] - 1s 671us/step - loss: 0.3086 - accuracy: 0.8856\n",
      "Epoch 10/10\n",
      "1875/1875 [==============================] - 1s 664us/step - loss: 0.3019 - accuracy: 0.8884\n",
      "Test loss: 0.28472256660461426\n",
      "Test accuracy: 0.8962000012397766\n",
      "Слоев: 2, нейронов в слое: 64\n",
      "Epoch 1/10\n",
      "1875/1875 [==============================] - 2s 749us/step - loss: 0.6673 - accuracy: 0.7726\n",
      "Epoch 2/10\n",
      "1875/1875 [==============================] - 1s 751us/step - loss: 0.4003 - accuracy: 0.8577\n",
      "Epoch 3/10\n",
      "1875/1875 [==============================] - 1s 746us/step - loss: 0.3599 - accuracy: 0.8710\n",
      "Epoch 4/10\n",
      "1875/1875 [==============================] - 1s 744us/step - loss: 0.3368 - accuracy: 0.8780\n",
      "Epoch 5/10\n",
      "1875/1875 [==============================] - 1s 717us/step - loss: 0.3158 - accuracy: 0.8852\n",
      "Epoch 6/10\n",
      "1875/1875 [==============================] - 1s 745us/step - loss: 0.2989 - accuracy: 0.8898\n",
      "Epoch 7/10\n",
      "1875/1875 [==============================] - 1s 749us/step - loss: 0.2950 - accuracy: 0.8918\n",
      "Epoch 8/10\n",
      "1875/1875 [==============================] - 1s 752us/step - loss: 0.2778 - accuracy: 0.8965\n",
      "Epoch 9/10\n",
      "1875/1875 [==============================] - 1s 751us/step - loss: 0.2697 - accuracy: 0.9013\n",
      "Epoch 10/10\n",
      "1875/1875 [==============================] - 1s 713us/step - loss: 0.2556 - accuracy: 0.9058\n",
      "Test loss: 0.24330256879329681\n",
      "Test accuracy: 0.9102833271026611\n",
      "Слоев: 2, нейронов в слое: 128\n",
      "Epoch 1/10\n",
      "1875/1875 [==============================] - 2s 807us/step - loss: 0.6301 - accuracy: 0.7834\n",
      "Epoch 2/10\n",
      "1875/1875 [==============================] - 2s 802us/step - loss: 0.3856 - accuracy: 0.8629\n",
      "Epoch 3/10\n",
      "1875/1875 [==============================] - 2s 816us/step - loss: 0.3359 - accuracy: 0.8784\n",
      "Epoch 4/10\n",
      "1875/1875 [==============================] - 1s 774us/step - loss: 0.3183 - accuracy: 0.8829\n",
      "Epoch 5/10\n",
      "1875/1875 [==============================] - 2s 813us/step - loss: 0.2956 - accuracy: 0.8889\n",
      "Epoch 6/10\n",
      "1875/1875 [==============================] - 2s 813us/step - loss: 0.2734 - accuracy: 0.8985\n",
      "Epoch 7/10\n",
      "1875/1875 [==============================] - 2s 811us/step - loss: 0.2721 - accuracy: 0.8967\n",
      "Epoch 8/10\n",
      "1875/1875 [==============================] - 2s 810us/step - loss: 0.2530 - accuracy: 0.9053\n",
      "Epoch 9/10\n",
      "1875/1875 [==============================] - 1s 774us/step - loss: 0.2438 - accuracy: 0.9080\n",
      "Epoch 10/10\n",
      "1875/1875 [==============================] - 2s 816us/step - loss: 0.2351 - accuracy: 0.9125\n",
      "Test loss: 0.21776869893074036\n",
      "Test accuracy: 0.9181666374206543\n"
     ]
    }
   ],
   "source": [
    "history=[]\n",
    "for i in [32, 64, 128]:\n",
    "    model=model_fash(2, [i, 10])\n",
    "    model.compile(optimizer='adam', \n",
    "              loss='sparse_categorical_crossentropy',\n",
    "              metrics=['accuracy'])                 \n",
    "    history.append(model.fit(train_images, train_labels, verbose=1, epochs=10))\n",
    "    score = model.evaluate(train_images, train_labels, verbose=0)\n",
    "    print('Test loss:', score[0])\n",
    "    print('Test accuracy:', score[1])\n",
    "    "
   ]
  },
  {
   "cell_type": "code",
   "execution_count": 116,
   "metadata": {},
   "outputs": [
    {
     "data": {
      "text/plain": [
       "[<tensorflow.python.keras.callbacks.History at 0x24723e459a0>,\n",
       " <tensorflow.python.keras.callbacks.History at 0x246ff23fee0>,\n",
       " <tensorflow.python.keras.callbacks.History at 0x2472b34a8e0>]"
      ]
     },
     "execution_count": 116,
     "metadata": {},
     "output_type": "execute_result"
    }
   ],
   "source": [
    "history"
   ]
  },
  {
   "cell_type": "code",
   "execution_count": 139,
   "metadata": {},
   "outputs": [
    {
     "data": {
      "image/png": "[encoded data removed]",
      "text/plain": [
       "<Figure size 432x288 with 1 Axes>"
      ]
     },
     "metadata": {
      "needs_background": "light"
     },
     "output_type": "display_data"
    }
   ],
   "source": [
    "for his in history:\n",
    "    plt.plot(his.history['accuracy'])\n",
    "plt.title('Model accuracy, в зав-ти от кол-ва нейронов')\n",
    "plt.ylabel('Accuracy')\n",
    "plt.xlabel('Epoch')\n",
    "plt.legend(['32','64', '128'], loc='upper left')\n",
    "\n",
    "plt.show()"
   ]
  },
  {
   "cell_type": "markdown",
   "metadata": {
    "id": "Yg1BFkl3sisX"
   },
   "source": [
    "### 2. Проверка количества слоев"
   ]
  },
  {
   "cell_type": "code",
   "execution_count": 144,
   "metadata": {
    "executionInfo": {
     "elapsed": 27664,
     "status": "ok",
     "timestamp": 1606993125576,
     "user": {
      "displayName": "Alexey Tankov",
      "photoUrl": "",
      "userId": "01729535101672247421"
     },
     "user_tz": -180
    },
    "id": "EO6Q_vXJEFJG"
   },
   "outputs": [],
   "source": [
    "def model_fash(layers_count, neurons_count):\n",
    "    for i in range (0,layers_count-1):\n",
    "        neur=64\n",
    "        md = Sequential([keras.layers.Dense(neur, activation=tf.nn.relu)])\n",
    "    print(f\"Слоев: {layers_count}, нейронов в слое: {neur}\")\n",
    "    md.add(Dense(10, activation='softmax'))\n",
    "    \n",
    "    \n",
    "    return md"
   ]
  },
  {
   "cell_type": "code",
   "execution_count": 145,
   "metadata": {
    "executionInfo": {
     "elapsed": 27909,
     "status": "ok",
     "timestamp": 1606993125825,
     "user": {
      "displayName": "Alexey Tankov",
      "photoUrl": "",
      "userId": "01729535101672247421"
     },
     "user_tz": -180
    },
    "id": "vxtGOksjE0c9"
   },
   "outputs": [
    {
     "name": "stdout",
     "output_type": "stream",
     "text": [
      "Слоев: 2, нейронов в слое: 64\n",
      "Epoch 1/10\n",
      "1875/1875 [==============================] - 1s 672us/step - loss: 0.6814 - accuracy: 0.7678\n",
      "Epoch 2/10\n",
      "1875/1875 [==============================] - 1s 669us/step - loss: 0.4052 - accuracy: 0.8556\n",
      "Epoch 3/10\n",
      "1875/1875 [==============================] - 1s 661us/step - loss: 0.3578 - accuracy: 0.8699\n",
      "Epoch 4/10\n",
      "1875/1875 [==============================] - 1s 664us/step - loss: 0.3354 - accuracy: 0.8782\n",
      "Epoch 5/10\n",
      "1875/1875 [==============================] - 1s 663us/step - loss: 0.3158 - accuracy: 0.8843\n",
      "Epoch 6/10\n",
      "1875/1875 [==============================] - 1s 672us/step - loss: 0.3081 - accuracy: 0.8876\n",
      "Epoch 7/10\n",
      "1875/1875 [==============================] - 1s 664us/step - loss: 0.2896 - accuracy: 0.8945\n",
      "Epoch 8/10\n",
      "1875/1875 [==============================] - 1s 660us/step - loss: 0.2805 - accuracy: 0.8943\n",
      "Epoch 9/10\n",
      "1875/1875 [==============================] - 1s 662us/step - loss: 0.2697 - accuracy: 0.8986\n",
      "Epoch 10/10\n",
      "1875/1875 [==============================] - 1s 659us/step - loss: 0.2618 - accuracy: 0.9025\n",
      "Test loss: 0.2622024714946747\n",
      "Test accuracy: 0.9036999940872192\n",
      "Слоев: 3, нейронов в слое: 64\n",
      "Epoch 1/10\n",
      "1875/1875 [==============================] - 1s 672us/step - loss: 0.6677 - accuracy: 0.7701\n",
      "Epoch 2/10\n",
      "1875/1875 [==============================] - 1s 670us/step - loss: 0.4072 - accuracy: 0.8544\n",
      "Epoch 3/10\n",
      "1875/1875 [==============================] - 1s 672us/step - loss: 0.3640 - accuracy: 0.8679\n",
      "Epoch 4/10\n",
      "1875/1875 [==============================] - 1s 671us/step - loss: 0.3325 - accuracy: 0.8784\n",
      "Epoch 5/10\n",
      "1875/1875 [==============================] - 1s 679us/step - loss: 0.3130 - accuracy: 0.8866\n",
      "Epoch 6/10\n",
      "1875/1875 [==============================] - 1s 699us/step - loss: 0.3059 - accuracy: 0.8887\n",
      "Epoch 7/10\n",
      "1875/1875 [==============================] - 1s 681us/step - loss: 0.2886 - accuracy: 0.8933\n",
      "Epoch 8/10\n",
      "1875/1875 [==============================] - 1s 693us/step - loss: 0.2780 - accuracy: 0.8959\n",
      "Epoch 9/10\n",
      "1875/1875 [==============================] - 1s 687us/step - loss: 0.2635 - accuracy: 0.9031\n",
      "Epoch 10/10\n",
      "1875/1875 [==============================] - 1s 687us/step - loss: 0.2635 - accuracy: 0.9020\n",
      "Test loss: 0.24106909334659576\n",
      "Test accuracy: 0.9112666845321655\n",
      "Слоев: 5, нейронов в слое: 64\n",
      "Epoch 1/10\n",
      "1875/1875 [==============================] - 1s 659us/step - loss: 0.6733 - accuracy: 0.7693\n",
      "Epoch 2/10\n",
      "1875/1875 [==============================] - 1s 669us/step - loss: 0.4100 - accuracy: 0.8551\n",
      "Epoch 3/10\n",
      "1875/1875 [==============================] - 1s 675us/step - loss: 0.3600 - accuracy: 0.8708\n",
      "Epoch 4/10\n",
      "1875/1875 [==============================] - 1s 673us/step - loss: 0.3328 - accuracy: 0.8806\n",
      "Epoch 5/10\n",
      "1875/1875 [==============================] - 1s 680us/step - loss: 0.3133 - accuracy: 0.8859\n",
      "Epoch 6/10\n",
      "1875/1875 [==============================] - 1s 670us/step - loss: 0.2986 - accuracy: 0.8889\n",
      "Epoch 7/10\n",
      "1875/1875 [==============================] - 1s 686us/step - loss: 0.2907 - accuracy: 0.8939\n",
      "Epoch 8/10\n",
      "1875/1875 [==============================] - 1s 681us/step - loss: 0.2762 - accuracy: 0.8971\n",
      "Epoch 9/10\n",
      "1875/1875 [==============================] - 1s 673us/step - loss: 0.2691 - accuracy: 0.9002\n",
      "Epoch 10/10\n",
      "1875/1875 [==============================] - 1s 679us/step - loss: 0.2637 - accuracy: 0.9042\n",
      "Test loss: 0.23753976821899414\n",
      "Test accuracy: 0.9130499958992004\n",
      "Слоев: 10, нейронов в слое: 64\n",
      "Epoch 1/10\n",
      "1875/1875 [==============================] - 1s 679us/step - loss: 0.6710 - accuracy: 0.7694\n",
      "Epoch 2/10\n",
      "1875/1875 [==============================] - 1s 661us/step - loss: 0.3989 - accuracy: 0.8589\n",
      "Epoch 3/10\n",
      "1875/1875 [==============================] - 1s 663us/step - loss: 0.3527 - accuracy: 0.8724\n",
      "Epoch 4/10\n",
      "1875/1875 [==============================] - 1s 663us/step - loss: 0.3285 - accuracy: 0.8826\n",
      "Epoch 5/10\n",
      "1875/1875 [==============================] - 1s 664us/step - loss: 0.3139 - accuracy: 0.8847\n",
      "Epoch 6/10\n",
      "1875/1875 [==============================] - 1s 664us/step - loss: 0.3037 - accuracy: 0.8905\n",
      "Epoch 7/10\n",
      "1875/1875 [==============================] - 1s 667us/step - loss: 0.2905 - accuracy: 0.8909\n",
      "Epoch 8/10\n",
      "1875/1875 [==============================] - 1s 669us/step - loss: 0.2751 - accuracy: 0.8992\n",
      "Epoch 9/10\n",
      "1875/1875 [==============================] - 1s 673us/step - loss: 0.2704 - accuracy: 0.9001\n",
      "Epoch 10/10\n",
      "1875/1875 [==============================] - 1s 663us/step - loss: 0.2643 - accuracy: 0.9018\n",
      "Test loss: 0.24976478517055511\n",
      "Test accuracy: 0.9070333242416382\n"
     ]
    }
   ],
   "source": [
    "history=[]\n",
    "for i in [2, 3, 5, 10]:\n",
    "    model=model_fash(i, 64)\n",
    "    model.compile(optimizer='adam', \n",
    "              loss='sparse_categorical_crossentropy',\n",
    "              metrics=['accuracy'])                 \n",
    "    history.append(model.fit(train_images, train_labels, verbose=1, epochs=10))\n",
    "    score = model.evaluate(train_images, train_labels, verbose=0)\n",
    "    print('Test loss:', score[0])\n",
    "    print('Test accuracy:', score[1])\n",
    "    "
   ]
  },
  {
   "cell_type": "code",
   "execution_count": 146,
   "metadata": {
    "colab": {
     "base_uri": "https://localhost:8080/",
     "height": 307
    },
    "executionInfo": {
     "elapsed": 227816,
     "status": "ok",
     "timestamp": 1606993325766,
     "user": {
      "displayName": "Alexey Tankov",
      "photoUrl": "",
      "userId": "01729535101672247421"
     },
     "user_tz": -180
    },
    "id": "55cBD_ZfF7Kr",
    "outputId": "fdee9f8b-125e-4231-93eb-7720412337a4"
   },
   "outputs": [
    {
     "data": {
      "image/png": "[encoded data removed]",
      "text/plain": [
       "<Figure size 432x288 with 1 Axes>"
      ]
     },
     "metadata": {
      "needs_background": "light"
     },
     "output_type": "display_data"
    }
   ],
   "source": [
    "for his in history:\n",
    "    plt.plot(his.history['accuracy'])\n",
    "plt.title('Model accuracy, в зав-ти от кол-ва слоев')\n",
    "plt.ylabel('Accuracy')\n",
    "plt.xlabel('Epoch')\n",
    "plt.legend(['2','3', '5', '10'], loc='upper left')\n",
    "\n",
    "plt.show()"
   ]
  },
  {
   "cell_type": "markdown",
   "metadata": {
    "id": "hWaJYebLsrTA"
   },
   "source": [
    "### 3. Проверка различных оптимизаторов"
   ]
  },
  {
   "cell_type": "code",
   "execution_count": 150,
   "metadata": {
    "executionInfo": {
     "elapsed": 227813,
     "status": "ok",
     "timestamp": 1606993325768,
     "user": {
      "displayName": "Alexey Tankov",
      "photoUrl": "",
      "userId": "01729535101672247421"
     },
     "user_tz": -180
    },
    "id": "_1QHlqqqq7pu"
   },
   "outputs": [],
   "source": [
    "def model_fash(layers_count, neurons_count):\n",
    "    for i in range (0,layers_count-1):\n",
    "        neur=neurons_count\n",
    "        md = Sequential([keras.layers.Dense(neur, activation=tf.nn.relu)])\n",
    "        print(f\"Слоев: {layers_count}, нейронов в слое: {neur}\")\n",
    "    md.add(Dense(10, activation='softmax'))\n",
    "    \n",
    "    \n",
    "    return md"
   ]
  },
  {
   "cell_type": "code",
   "execution_count": 152,
   "metadata": {
    "executionInfo": {
     "elapsed": 228057,
     "status": "ok",
     "timestamp": 1606993326015,
     "user": {
      "displayName": "Alexey Tankov",
      "photoUrl": "",
      "userId": "01729535101672247421"
     },
     "user_tz": -180
    },
    "id": "7rip08GGrCXq"
   },
   "outputs": [
    {
     "name": "stdout",
     "output_type": "stream",
     "text": [
      "Слоев: 2, нейронов в слое: 128\n",
      "Epoch 1/10\n",
      "1875/1875 [==============================] - 1s 626us/step - loss: 0.9844 - accuracy: 0.6855\n",
      "Epoch 2/10\n",
      "1875/1875 [==============================] - 1s 635us/step - loss: 0.5275 - accuracy: 0.8216\n",
      "Epoch 3/10\n",
      "1875/1875 [==============================] - 1s 632us/step - loss: 0.4740 - accuracy: 0.8386\n",
      "Epoch 4/10\n",
      "1875/1875 [==============================] - 1s 625us/step - loss: 0.4507 - accuracy: 0.8435\n",
      "Epoch 5/10\n",
      "1875/1875 [==============================] - 1s 629us/step - loss: 0.4311 - accuracy: 0.8510\n",
      "Epoch 6/10\n",
      "1875/1875 [==============================] - 1s 617us/step - loss: 0.4156 - accuracy: 0.8569\n",
      "Epoch 7/10\n",
      "1875/1875 [==============================] - 1s 623us/step - loss: 0.4051 - accuracy: 0.8588\n",
      "Epoch 8/10\n",
      "1875/1875 [==============================] - 1s 630us/step - loss: 0.3932 - accuracy: 0.8631\n",
      "Epoch 9/10\n",
      "1875/1875 [==============================] - 1s 621us/step - loss: 0.3902 - accuracy: 0.8637\n",
      "Epoch 10/10\n",
      "1875/1875 [==============================] - 1s 625us/step - loss: 0.3740 - accuracy: 0.8713\n",
      "Optimizer: sgd\n",
      "Test loss: 0.36428388953208923\n",
      "Test accuracy: 0.8740666508674622\n",
      "---------------\n",
      "Слоев: 2, нейронов в слое: 128\n",
      "Epoch 1/10\n",
      "1875/1875 [==============================] - 2s 707us/step - loss: 0.6337 - accuracy: 0.7829\n",
      "Epoch 2/10\n",
      "1875/1875 [==============================] - 1s 711us/step - loss: 0.3855 - accuracy: 0.8623\n",
      "Epoch 3/10\n",
      "1875/1875 [==============================] - 1s 714us/step - loss: 0.3411 - accuracy: 0.8751\n",
      "Epoch 4/10\n",
      "1875/1875 [==============================] - 1s 712us/step - loss: 0.3174 - accuracy: 0.8826\n",
      "Epoch 5/10\n",
      "1875/1875 [==============================] - 1s 728us/step - loss: 0.2957 - accuracy: 0.8927\n",
      "Epoch 6/10\n",
      "1875/1875 [==============================] - 1s 734us/step - loss: 0.2853 - accuracy: 0.8934\n",
      "Epoch 7/10\n",
      "1875/1875 [==============================] - 1s 739us/step - loss: 0.2710 - accuracy: 0.9005\n",
      "Epoch 8/10\n",
      "1875/1875 [==============================] - 1s 739us/step - loss: 0.2589 - accuracy: 0.9041\n",
      "Epoch 9/10\n",
      "1875/1875 [==============================] - 1s 726us/step - loss: 0.2485 - accuracy: 0.9077\n",
      "Epoch 10/10\n",
      "1875/1875 [==============================] - 1s 738us/step - loss: 0.2425 - accuracy: 0.9089\n",
      "Optimizer: adam\n",
      "Test loss: 0.2289714366197586\n",
      "Test accuracy: 0.9139833450317383\n",
      "---------------\n",
      "Слоев: 2, нейронов в слое: 128\n",
      "Epoch 1/10\n",
      "1875/1875 [==============================] - 2s 901us/step - loss: 0.6401 - accuracy: 0.7776\n",
      "Epoch 2/10\n",
      "1875/1875 [==============================] - 2s 896us/step - loss: 0.3901 - accuracy: 0.8613\n",
      "Epoch 3/10\n",
      "1875/1875 [==============================] - 2s 901us/step - loss: 0.3454 - accuracy: 0.8754\n",
      "Epoch 4/10\n",
      "1875/1875 [==============================] - 2s 890us/step - loss: 0.3287 - accuracy: 0.8832\n",
      "Epoch 5/10\n",
      "1875/1875 [==============================] - 2s 912us/step - loss: 0.3151 - accuracy: 0.8895\n",
      "Epoch 6/10\n",
      "1875/1875 [==============================] - 2s 906us/step - loss: 0.3022 - accuracy: 0.8960\n",
      "Epoch 7/10\n",
      "1875/1875 [==============================] - 2s 892us/step - loss: 0.2936 - accuracy: 0.8962\n",
      "Epoch 8/10\n",
      "1875/1875 [==============================] - 2s 879us/step - loss: 0.2954 - accuracy: 0.8966\n",
      "Epoch 9/10\n",
      "1875/1875 [==============================] - 2s 883us/step - loss: 0.2927 - accuracy: 0.8999\n",
      "Epoch 10/10\n",
      "1875/1875 [==============================] - 2s 874us/step - loss: 0.2807 - accuracy: 0.9013\n",
      "Optimizer: rmsprop\n",
      "Test loss: 0.2460659146308899\n",
      "Test accuracy: 0.9162333607673645\n",
      "---------------\n"
     ]
    }
   ],
   "source": [
    "history=[]\n",
    "for optim in ['sgd', 'adam', 'rmsprop']:\n",
    "    model=model_fash(2, 128)\n",
    "    model.compile(optimizer=optim, \n",
    "              loss='sparse_categorical_crossentropy',\n",
    "              metrics=['accuracy'])                 \n",
    "    history.append(model.fit(train_images, train_labels, verbose=1, epochs=10))\n",
    "    score = model.evaluate(train_images, train_labels, verbose=0)\n",
    "    print('Optimizer:', optim)\n",
    "    print('Test loss:', score[0])\n",
    "    print('Test accuracy:', score[1])\n",
    "    print(\"---------------\")\n",
    "    "
   ]
  },
  {
   "cell_type": "code",
   "execution_count": 154,
   "metadata": {
    "colab": {
     "base_uri": "https://localhost:8080/",
     "height": 307
    },
    "executionInfo": {
     "elapsed": 655231,
     "status": "ok",
     "timestamp": 1606993753220,
     "user": {
      "displayName": "Alexey Tankov",
      "photoUrl": "",
      "userId": "01729535101672247421"
     },
     "user_tz": -180
    },
    "id": "fwSGRCQer88f",
    "outputId": "442ff235-ace7-47b8-beb5-e147d489f3dd"
   },
   "outputs": [
    {
     "data": {
      "image/png": "[encoded data removed]",
      "text/plain": [
       "<Figure size 432x288 with 1 Axes>"
      ]
     },
     "metadata": {
      "needs_background": "light"
     },
     "output_type": "display_data"
    }
   ],
   "source": [
    "for his in history:\n",
    "    plt.plot(his.history['accuracy'])\n",
    "plt.title('Model accuracy, в зав-ти от оптимизатора')\n",
    "plt.ylabel('Accuracy')\n",
    "plt.xlabel('Epoch')\n",
    "plt.legend(['sgd', 'adam', 'rmsprop'], loc='upper left')\n",
    "\n",
    "plt.show()"
   ]
  },
  {
   "cell_type": "markdown",
   "metadata": {
    "id": "aI7mHc_QYi3c"
   },
   "source": [
    "### Вывод:"
   ]
  },
  {
   "cell_type": "markdown",
   "metadata": {
    "id": "3WNHH5KlVCFB"
   },
   "source": [
    "1. На точность влияет более всего - epochs\n",
    "2. Количество нейронов в слое влияет, по при существенном увеличении количества нейронов - точность фактически не увеличивается.\n",
    "3. Количество слоев в данном датасете почти не изменило результаты.\n",
    "4. Из трёх оптимизаторов - самый лучший результат показал adam."
   ]
  },
  {
   "cell_type": "code",
   "execution_count": null,
   "metadata": {
    "executionInfo": {
     "elapsed": 655228,
     "status": "ok",
     "timestamp": 1606993753222,
     "user": {
      "displayName": "Alexey Tankov",
      "photoUrl": "",
      "userId": "01729535101672247421"
     },
     "user_tz": -180
    },
    "id": "7Z9JTZBe8aCS"
   },
   "outputs": [],
   "source": []
  }
 ],
 "metadata": {
  "colab": {
   "authorship_tag": "ABX9TyNP79yyUpTY42NZlEZYNSBI",
   "collapsed_sections": [],
   "name": "hw_02.ipynb",
   "provenance": []
  },
  "kernelspec": {
   "display_name": "Python 3",
   "language": "python",
   "name": "python3"
  },
  "language_info": {
   "codemirror_mode": {
    "name": "ipython",
    "version": 3
   },
   "file_extension": ".py",
   "mimetype": "text/x-python",
   "name": "python",
   "nbconvert_exporter": "python",
   "pygments_lexer": "ipython3",
   "version": "3.8.5"
  }
 },
 "nbformat": 4,
 "nbformat_minor": 1
}
