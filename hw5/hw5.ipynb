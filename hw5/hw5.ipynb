{
 "cells": [
  {
   "cell_type": "markdown",
   "metadata": {},
   "source": [
    "## Практическое задание\n",
    "\n",
    "<ol>\n",
    "    <li>Попробуйте обучить нейронную сеть LSTM на любом другом датасете (любимый временной ряд, текст на русском (другом языке) как генератор или классификатор, или прилагаемый набор airline-passengers - пасажиропоток для авиалиний). Опишите, какой результата вы получили? Что помогло вам улучшить ее точность?\n",
    "\n",
    "    \n",
    "<li>*Попробуйте на numpy реализовать нейронную сеть архитектуры LSTM</li>\n",
    "<li>*Предложите свои варианты решения проблемы исчезающего градиента в RNN</li>\n",
    "</ol>"
   ]
  },
  {
   "cell_type": "code",
   "execution_count": 25,
   "metadata": {},
   "outputs": [],
   "source": [
    "import numpy\n",
    "import pandas\n",
    "import matplotlib.pyplot as plt\n",
    "from tensorflow.keras.models import Sequential\n",
    "from tensorflow.keras.layers import Dense, LSTM\n",
    "from sklearn.preprocessing import MinMaxScaler\n",
    "%matplotlib inline"
   ]
  },
  {
   "cell_type": "code",
   "execution_count": 26,
   "metadata": {},
   "outputs": [],
   "source": [
    "def newdf(df):\n",
    "    input_data, output_data = [], []\n",
    "    for i in range(len(df) - 1):\n",
    "        input_data.append(df[i:i+1])\n",
    "        output_data.append(df[i+1])\n",
    "    return numpy.array(input_data), numpy.array(output_data)"
   ]
  },
  {
   "cell_type": "code",
   "execution_count": 27,
   "metadata": {},
   "outputs": [
    {
     "data": {
      "image/png": "[encoded data removed]",
      "text/plain": [
       "<Figure size 720x360 with 1 Axes>"
      ]
     },
     "metadata": {
      "needs_background": "light"
     },
     "output_type": "display_data"
    }
   ],
   "source": [
    "dataframe = pandas.read_csv('airline-passengers.csv')\n",
    "dataframe.head()\n",
    "dataset = dataframe['Passengers'].values\n",
    "dataset = dataset.astype('float32')\n",
    "train_size = int(len(dataset) * 0.70)\n",
    "test_size = len(dataset) - train_size\n",
    "train, test = dataset[:train_size], dataset[train_size:]\n",
    "plt.figure(figsize=[10, 5])\n",
    "plt.plot(train,label='train')\n",
    "plt.plot(range(len(train) - 1, len(train) - 1 + len(test)), test, label='test')\n",
    "plt.legend()\n",
    "plt.show()"
   ]
  },
  {
   "cell_type": "code",
   "execution_count": 28,
   "metadata": {},
   "outputs": [
    {
     "data": {
      "text/plain": [
       "array([112., 118., 132., 129., 121., 135., 148., 148., 136., 119., 104.,\n",
       "       118., 115., 126., 141., 135., 125., 149., 170., 170., 158., 133.,\n",
       "       114., 140., 145., 150., 178., 163., 172., 178., 199., 199., 184.,\n",
       "       162., 146., 166., 171., 180., 193., 181., 183., 218., 230., 242.,\n",
       "       209., 191., 172., 194., 196., 196., 236., 235., 229., 243., 264.,\n",
       "       272., 237., 211., 180., 201., 204., 188., 235., 227., 234., 264.,\n",
       "       302., 293., 259., 229., 203., 229., 242., 233., 267., 269., 270.,\n",
       "       315., 364., 347., 312., 274., 237., 278., 284., 277., 317., 313.,\n",
       "       318., 374., 413., 405., 355., 306., 271., 306., 315., 301., 356.,\n",
       "       348.], dtype=float32)"
      ]
     },
     "execution_count": 28,
     "metadata": {},
     "output_type": "execute_result"
    }
   ],
   "source": [
    "train"
   ]
  },
  {
   "cell_type": "code",
   "execution_count": 29,
   "metadata": {},
   "outputs": [
    {
     "data": {
      "text/plain": [
       "(99, 99)"
      ]
     },
     "execution_count": 29,
     "metadata": {},
     "output_type": "execute_result"
    }
   ],
   "source": [
    "train_input, train_output = newdf(train)\n",
    "test_input, test_output = newdf(test)\n",
    "len(train_input), len(train_output)"
   ]
  },
  {
   "cell_type": "code",
   "execution_count": 30,
   "metadata": {},
   "outputs": [
    {
     "data": {
      "text/plain": [
       "array([118., 132., 129., 121., 135., 148., 148., 136., 119., 104., 118.,\n",
       "       115., 126., 141., 135., 125., 149., 170., 170., 158., 133., 114.,\n",
       "       140., 145., 150., 178., 163., 172., 178., 199., 199., 184., 162.,\n",
       "       146., 166., 171., 180., 193., 181., 183., 218., 230., 242., 209.,\n",
       "       191., 172., 194., 196., 196., 236., 235., 229., 243., 264., 272.,\n",
       "       237., 211., 180., 201., 204., 188., 235., 227., 234., 264., 302.,\n",
       "       293., 259., 229., 203., 229., 242., 233., 267., 269., 270., 315.,\n",
       "       364., 347., 312., 274., 237., 278., 284., 277., 317., 313., 318.,\n",
       "       374., 413., 405., 355., 306., 271., 306., 315., 301., 356., 348.],\n",
       "      dtype=float32)"
      ]
     },
     "execution_count": 30,
     "metadata": {},
     "output_type": "execute_result"
    }
   ],
   "source": [
    "train_output"
   ]
  },
  {
   "cell_type": "code",
   "execution_count": 31,
   "metadata": {},
   "outputs": [],
   "source": [
    "train_input = train_input.reshape(train_input.shape[0], 1, train_input.shape[1])\n",
    "test_input = test_input.reshape(test_input.shape[0], 1, test_input.shape[1])"
   ]
  },
  {
   "cell_type": "code",
   "execution_count": null,
   "metadata": {},
   "outputs": [],
   "source": []
  },
  {
   "cell_type": "code",
   "execution_count": 32,
   "metadata": {},
   "outputs": [
    {
     "name": "stdout",
     "output_type": "stream",
     "text": [
      "Epoch 1/100\n",
      "99/99 - 1s - loss: 52620.5039 - mae: 217.3164\n",
      "Epoch 2/100\n",
      "99/99 - 0s - loss: 49475.8555 - mae: 209.8792\n",
      "Epoch 3/100\n",
      "99/99 - 0s - loss: 43405.1211 - mae: 194.9753\n",
      "Epoch 4/100\n",
      "99/99 - 0s - loss: 36151.0312 - mae: 175.1212\n",
      "Epoch 5/100\n",
      "99/99 - 0s - loss: 29196.4883 - mae: 153.6725\n",
      "Epoch 6/100\n",
      "99/99 - 0s - loss: 22921.6406 - mae: 132.1015\n",
      "Epoch 7/100\n",
      "99/99 - 0s - loss: 17560.3438 - mae: 109.8620\n",
      "Epoch 8/100\n",
      "99/99 - 0s - loss: 13019.9053 - mae: 90.0515\n",
      "Epoch 9/100\n",
      "99/99 - 0s - loss: 9900.3184 - mae: 76.8556\n",
      "Epoch 10/100\n",
      "99/99 - 0s - loss: 7890.5801 - mae: 68.5321\n",
      "Epoch 11/100\n",
      "99/99 - 0s - loss: 6645.5435 - mae: 62.4342\n",
      "Epoch 12/100\n",
      "99/99 - 0s - loss: 5696.0557 - mae: 58.2175\n",
      "Epoch 13/100\n",
      "99/99 - 0s - loss: 4992.2812 - mae: 53.9316\n",
      "Epoch 14/100\n",
      "99/99 - 0s - loss: 4479.5249 - mae: 51.9678\n",
      "Epoch 15/100\n",
      "99/99 - 0s - loss: 4149.6953 - mae: 50.6541\n",
      "Epoch 16/100\n",
      "99/99 - 0s - loss: 3930.8567 - mae: 48.9382\n",
      "Epoch 17/100\n",
      "99/99 - 0s - loss: 3778.8645 - mae: 48.5615\n",
      "Epoch 18/100\n",
      "99/99 - 0s - loss: 3359.3528 - mae: 45.1049\n",
      "Epoch 19/100\n",
      "99/99 - 0s - loss: 3244.3879 - mae: 45.5321\n",
      "Epoch 20/100\n",
      "99/99 - 0s - loss: 3438.1077 - mae: 46.1845\n",
      "Epoch 21/100\n",
      "99/99 - 0s - loss: 3056.5681 - mae: 43.4712\n",
      "Epoch 22/100\n",
      "99/99 - 0s - loss: 2781.5764 - mae: 41.5765\n",
      "Epoch 23/100\n",
      "99/99 - 0s - loss: 2649.3340 - mae: 40.2711\n",
      "Epoch 24/100\n",
      "99/99 - 0s - loss: 2819.4216 - mae: 42.1561\n",
      "Epoch 25/100\n",
      "99/99 - 0s - loss: 2383.1709 - mae: 38.0684\n",
      "Epoch 26/100\n",
      "99/99 - 0s - loss: 2195.2766 - mae: 34.7854\n",
      "Epoch 27/100\n",
      "99/99 - 0s - loss: 2192.3904 - mae: 36.8315\n",
      "Epoch 28/100\n",
      "99/99 - 0s - loss: 2031.3616 - mae: 35.2932\n",
      "Epoch 29/100\n",
      "99/99 - 0s - loss: 1790.2943 - mae: 32.7785\n",
      "Epoch 30/100\n",
      "99/99 - 0s - loss: 1960.5560 - mae: 34.5672\n",
      "Epoch 31/100\n",
      "99/99 - 0s - loss: 1654.1963 - mae: 31.2397\n",
      "Epoch 32/100\n",
      "99/99 - 0s - loss: 1944.5173 - mae: 35.1921\n",
      "Epoch 33/100\n",
      "99/99 - 0s - loss: 1524.3022 - mae: 29.2817\n",
      "Epoch 34/100\n",
      "99/99 - 0s - loss: 1479.1677 - mae: 29.7916\n",
      "Epoch 35/100\n",
      "99/99 - 0s - loss: 1478.5458 - mae: 29.2340\n",
      "Epoch 36/100\n",
      "99/99 - 0s - loss: 1454.7162 - mae: 28.7070\n",
      "Epoch 37/100\n",
      "99/99 - 0s - loss: 1313.0034 - mae: 28.4317\n",
      "Epoch 38/100\n",
      "99/99 - 0s - loss: 1303.2533 - mae: 27.6921\n",
      "Epoch 39/100\n",
      "99/99 - 0s - loss: 1341.9376 - mae: 28.7118\n",
      "Epoch 40/100\n",
      "99/99 - 0s - loss: 1532.4860 - mae: 31.9367\n",
      "Epoch 41/100\n",
      "99/99 - 0s - loss: 1160.4969 - mae: 25.0771\n",
      "Epoch 42/100\n",
      "99/99 - 0s - loss: 1126.9069 - mae: 25.6575\n",
      "Epoch 43/100\n",
      "99/99 - 0s - loss: 1101.0363 - mae: 25.9313\n",
      "Epoch 44/100\n",
      "99/99 - 0s - loss: 1126.5441 - mae: 26.4890\n",
      "Epoch 45/100\n",
      "99/99 - 0s - loss: 932.1678 - mae: 23.7006\n",
      "Epoch 46/100\n",
      "99/99 - 0s - loss: 1076.5366 - mae: 24.6283\n",
      "Epoch 47/100\n",
      "99/99 - 0s - loss: 908.0627 - mae: 23.5016\n",
      "Epoch 48/100\n",
      "99/99 - 0s - loss: 999.7349 - mae: 25.4396\n",
      "Epoch 49/100\n",
      "99/99 - 0s - loss: 1087.1339 - mae: 26.0373\n",
      "Epoch 50/100\n",
      "99/99 - 0s - loss: 1250.4818 - mae: 27.9764\n",
      "Epoch 51/100\n",
      "99/99 - 0s - loss: 887.0458 - mae: 22.6246\n",
      "Epoch 52/100\n",
      "99/99 - 0s - loss: 911.4661 - mae: 23.0022\n",
      "Epoch 53/100\n",
      "99/99 - 0s - loss: 982.5038 - mae: 23.8497\n",
      "Epoch 54/100\n",
      "99/99 - 0s - loss: 863.4655 - mae: 23.2821\n",
      "Epoch 55/100\n",
      "99/99 - 0s - loss: 1010.7931 - mae: 25.3456\n",
      "Epoch 56/100\n",
      "99/99 - 0s - loss: 1011.9900 - mae: 24.8844\n",
      "Epoch 57/100\n",
      "99/99 - 0s - loss: 854.7906 - mae: 22.0263\n",
      "Epoch 58/100\n",
      "99/99 - 0s - loss: 826.5593 - mae: 21.7770\n",
      "Epoch 59/100\n",
      "99/99 - 0s - loss: 699.7609 - mae: 20.7407\n",
      "Epoch 60/100\n",
      "99/99 - 0s - loss: 920.4750 - mae: 24.0321\n",
      "Epoch 61/100\n",
      "99/99 - 0s - loss: 813.1450 - mae: 23.0102\n",
      "Epoch 62/100\n",
      "99/99 - 0s - loss: 858.8102 - mae: 21.8996\n",
      "Epoch 63/100\n",
      "99/99 - 0s - loss: 801.4894 - mae: 22.5142\n",
      "Epoch 64/100\n",
      "99/99 - 0s - loss: 821.1041 - mae: 22.5225\n",
      "Epoch 65/100\n",
      "99/99 - 0s - loss: 778.6246 - mae: 21.1088\n",
      "Epoch 66/100\n",
      "99/99 - 0s - loss: 810.5981 - mae: 22.8350\n",
      "Epoch 67/100\n",
      "99/99 - 0s - loss: 996.6882 - mae: 23.8590\n",
      "Epoch 68/100\n",
      "99/99 - 0s - loss: 816.4705 - mae: 23.3109\n",
      "Epoch 69/100\n",
      "99/99 - 0s - loss: 979.1037 - mae: 24.3580\n",
      "Epoch 70/100\n",
      "99/99 - 0s - loss: 869.0871 - mae: 22.8993\n",
      "Epoch 71/100\n",
      "99/99 - 0s - loss: 852.6693 - mae: 23.5876\n",
      "Epoch 72/100\n",
      "99/99 - 0s - loss: 826.8677 - mae: 22.3288\n",
      "Epoch 73/100\n",
      "99/99 - 0s - loss: 897.1307 - mae: 23.8798\n",
      "Epoch 74/100\n",
      "99/99 - 0s - loss: 1194.0149 - mae: 26.8670\n",
      "Epoch 75/100\n",
      "99/99 - 0s - loss: 737.9087 - mae: 21.5166\n",
      "Epoch 76/100\n",
      "99/99 - 0s - loss: 854.1647 - mae: 24.0671\n",
      "Epoch 77/100\n",
      "99/99 - 0s - loss: 932.5218 - mae: 24.0951\n",
      "Epoch 78/100\n",
      "99/99 - 0s - loss: 783.5951 - mae: 21.8692\n",
      "Epoch 79/100\n",
      "99/99 - 0s - loss: 832.0459 - mae: 23.2720\n",
      "Epoch 80/100\n",
      "99/99 - 0s - loss: 876.7013 - mae: 22.6138\n",
      "Epoch 81/100\n",
      "99/99 - 0s - loss: 971.2687 - mae: 24.3983\n",
      "Epoch 82/100\n",
      "99/99 - 0s - loss: 774.8783 - mae: 21.9758\n",
      "Epoch 83/100\n",
      "99/99 - 0s - loss: 739.4808 - mae: 21.3059\n",
      "Epoch 84/100\n",
      "99/99 - 0s - loss: 801.9827 - mae: 22.7901\n",
      "Epoch 85/100\n",
      "99/99 - 0s - loss: 947.1286 - mae: 24.8989\n",
      "Epoch 86/100\n",
      "99/99 - 0s - loss: 943.4951 - mae: 24.9211\n",
      "Epoch 87/100\n",
      "99/99 - 0s - loss: 814.7075 - mae: 22.1391\n",
      "Epoch 88/100\n",
      "99/99 - 0s - loss: 871.6660 - mae: 22.9885\n",
      "Epoch 89/100\n",
      "99/99 - 0s - loss: 833.4156 - mae: 22.7713\n",
      "Epoch 90/100\n",
      "99/99 - 0s - loss: 849.5900 - mae: 23.0318\n",
      "Epoch 91/100\n",
      "99/99 - 0s - loss: 855.2921 - mae: 23.1648\n",
      "Epoch 92/100\n",
      "99/99 - 0s - loss: 902.7063 - mae: 23.5439\n",
      "Epoch 93/100\n",
      "99/99 - 0s - loss: 796.9431 - mae: 21.6933\n",
      "Epoch 94/100\n",
      "99/99 - 0s - loss: 773.9474 - mae: 22.5291\n",
      "Epoch 95/100\n",
      "99/99 - 0s - loss: 765.6514 - mae: 21.6845\n",
      "Epoch 96/100\n",
      "99/99 - 0s - loss: 797.2824 - mae: 22.4404\n",
      "Epoch 97/100\n",
      "99/99 - 0s - loss: 802.7343 - mae: 22.2364\n",
      "Epoch 98/100\n",
      "99/99 - 0s - loss: 910.7690 - mae: 23.8952\n",
      "Epoch 99/100\n",
      "99/99 - 0s - loss: 873.4921 - mae: 23.1263\n",
      "Epoch 100/100\n",
      "99/99 - 0s - loss: 838.2342 - mae: 22.8574\n"
     ]
    },
    {
     "data": {
      "text/plain": [
       "<tensorflow.python.keras.callbacks.History at 0x20f8311fa30>"
      ]
     },
     "execution_count": 32,
     "metadata": {},
     "output_type": "execute_result"
    }
   ],
   "source": [
    "model = Sequential()\n",
    "model.add(LSTM(32, input_shape=(1, 1)))\n",
    "model.add(Dense(10, activation='relu'))\n",
    "model.add(Dense(1))\n",
    "model.compile(optimizer='adam', loss='mse', metrics=['mae'])\n",
    "model.fit(train_input, train_output, epochs=100, batch_size=1, verbose=2)"
   ]
  },
  {
   "cell_type": "code",
   "execution_count": null,
   "metadata": {},
   "outputs": [],
   "source": []
  },
  {
   "cell_type": "code",
   "execution_count": 33,
   "metadata": {},
   "outputs": [
    {
     "data": {
      "image/png": "[encoded data removed]",
      "text/plain": [
       "<Figure size 432x288 with 1 Axes>"
      ]
     },
     "metadata": {
      "needs_background": "light"
     },
     "output_type": "display_data"
    }
   ],
   "source": [
    "train_predict = model.predict(train_input)\n",
    "test_predict = model.predict(test_input)\n",
    "train_predict.reshape(train_predict.shape[0])\n",
    "plt.plot(train_predict, label='train_preedict')\n",
    "plt.plot(train_input.flatten(), label='train_input')\n",
    "plt.show()"
   ]
  },
  {
   "cell_type": "code",
   "execution_count": 34,
   "metadata": {},
   "outputs": [
    {
     "data": {
      "image/png": "[encoded data removed]",
      "text/plain": [
       "<Figure size 432x288 with 1 Axes>"
      ]
     },
     "metadata": {
      "needs_background": "light"
     },
     "output_type": "display_data"
    }
   ],
   "source": [
    "test_predict.reshape(test_predict.shape[0])\n",
    "plt.plot(test_predict, label='test_preedict')\n",
    "plt.plot(test_input.flatten(), label='test_input')\n",
    "plt.show()"
   ]
  },
  {
   "cell_type": "markdown",
   "metadata": {},
   "source": [
    "Результаты:\n",
    "* На обучающей выборке: результат очень точный\n",
    "* На тестовой выборке: результат средней точности. Можно увидеть только места максимумов, но не их выличину.\n",
    "* Протестировано с разным поличеством слоёв, но результат примерно одинаков\n",
    "* Разное количество слоев дает примерно тот же результат, что и один слой.\n",
    "* Увеличение количества нейронов от 32 до 512 не дает каких-либо существенных улучшений точности предсказания."
   ]
  }
 ],
 "metadata": {
  "kernelspec": {
   "display_name": "Python 3",
   "language": "python",
   "name": "python3"
  },
  "language_info": {
   "codemirror_mode": {
    "name": "ipython",
    "version": 3
   },
   "file_extension": ".py",
   "mimetype": "text/x-python",
   "name": "python",
   "nbconvert_exporter": "python",
   "pygments_lexer": "ipython3",
   "version": "3.8.5"
  }
 },
 "nbformat": 4,
 "nbformat_minor": 4
}
